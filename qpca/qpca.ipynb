{
 "cells": [
  {
   "cell_type": "markdown",
   "metadata": {},
   "source": [
    "# **PCA implementation**\n",
    "The following implementation is based on the circuit shown in the image below\n",
    "<div>\n",
    "<img src=\"img/pca_circuit.png\" width=\"700\">\n",
    "</div>"
   ]
  },
  {
   "cell_type": "markdown",
   "metadata": {},
   "source": [
    "# **Import of basic libraries**"
   ]
  },
  {
   "cell_type": "code",
   "execution_count": 64,
   "metadata": {},
   "outputs": [],
   "source": [
    "from qiskit import QuantumCircuit, ClassicalRegister, QuantumRegister, BasicAer, execute\n",
    "from qiskit.extensions import UnitaryGate\n",
    "\n",
    "import matplotlib.pyplot as plt\n",
    "import numpy as np\n",
    "import math\n",
    "\n",
    "from utils.utils import dprint, print_matrix, set_debug\n",
    "set_debug(True) # Set to True to print debug information during execution"
   ]
  },
  {
   "cell_type": "markdown",
   "metadata": {},
   "source": [
    "# **Data used for testing**\n",
    "### **Dataset 1**\n",
    "Number of bedrooms ($x_1$) and the square footage ($x_2$) of several houses (15) for sale in Los Alamos.<br>\n",
    "\n",
    "For scaling purposes, the square footage were divided by 1000 and the respective averages were subtracted from both features.\n",
    "\n",
    "With respect to the features described, the expected covariance matrix $\\Sigma$ and its eigenvalues $e_1$ and $e_2$ are:\n",
    "$$\\Sigma=\\begin{pmatrix}\n",
    "        0.380952 & 0.573476\\\\\n",
    "        0.573476 & 1.29693\n",
    "        \\end{pmatrix},\\quad e_1=1.57286,\\quad e_2=0.105029$$\n",
    "\n",
    "### **Dataset 2**\n",
    "Dataset taken from [kaggle](https://www.kaggle.com/datasets/youssefaboelwafa/clustering-penguins-species?resource=download). Originally composed of 5 features but only the first two were extracted: culmen length ($x_1$) and culmen depth ($x_2$).<br>\n",
    "\n",
    "With respect to the features described, the expected covariance matrix $\\Sigma$ and its eigenvalues $e_1$ and $e_2$ are:\n",
    "$$\\Sigma=\\begin{pmatrix}\n",
    "        29.807054 & -2.534234\\\\\n",
    "        -2.534234 & 3.899808\n",
    "        \\end{pmatrix},\\quad e_1=30.05262,\\quad e_2=3.65424$$"
   ]
  },
  {
   "cell_type": "code",
   "execution_count": 65,
   "metadata": {},
   "outputs": [],
   "source": [
    "DATASET = 0 # 0: Los Alamos housing prices dataset, 1: Penguin dataset\n",
    "\n",
    "match DATASET:\n",
    "    case 0:\n",
    "        x1 = np.array([4,3,4,4,3,3,3,3,4,4,4,5,4,3,4])\n",
    "        x2 = np.array([3028,1365,2726,2538,1318,1693,1412,1632,2875,3564,4412,4444,4278,3064,3857])\n",
    "        x2 = x2 / 1000\n",
    "    case 1:\n",
    "        with open('dataset/penguins.txt', 'r', encoding='utf-8-sig') as file:\n",
    "            lines = file.readlines()\n",
    "            x1 = np.array([float(value) for value in lines[0].split(\",\")])\n",
    "            x2 = np.array([float(value) for value in lines[1].split(\",\")])\n",
    "    case _:\n",
    "        raise ValueError(\"Invalid dataset\")\n",
    "\n",
    "x1 = x1 - np.mean(x1)\n",
    "x2 = x2 - np.mean(x2)"
   ]
  },
  {
   "cell_type": "markdown",
   "metadata": {},
   "source": [
    "# **Building blocks definition**"
   ]
  },
  {
   "cell_type": "markdown",
   "metadata": {},
   "source": [
    "## **Classical precomputation**\n",
    "1. Convert raw data vectors into covariance matrix $\\Sigma$\n",
    "2. Normalize matrix to form $\\rho = \\frac{\\Sigma}{Tr(\\Sigma)}$\n",
    "3. Purify $\\rho$ to make a pure state $\\ket{\\psi}$\n",
    "4. Compute and return the unitary $U_{prep}$ needed to prepare $\\ket{\\psi}$ from a pair of qubits each initially in the $\\ket{0}$ state"
   ]
  },
  {
   "cell_type": "code",
   "execution_count": 66,
   "metadata": {},
   "outputs": [],
   "source": [
    "def classical_precomputation(x1: np.array, x2: np.array) -> tuple[UnitaryGate, np.array]:\n",
    "    \"\"\"\n",
    "    1. Convert raw data vectors into covariance matrix sigma\n",
    "    2. Normalize matrix to form rho = sigma/Tr(sigma)\n",
    "    3. Purify rho to make a pure state |psi>\n",
    "    4. Compute and return the unitary Uprep needed to prepare |psi>\n",
    "        from a pair of qubits each initially in the |0> state\n",
    "\n",
    "    Args:\n",
    "        x1 (np.array): vector of data points for x1\n",
    "        x2 (np.array): vector of data points for x2\n",
    "\n",
    "    Returns:\n",
    "        UnitaryGate: the unitary Uprep needed to prepare |psi>\n",
    "        np.array: the covariance matrix sigma\n",
    "    \"\"\"\n",
    "    # 1. Covariance matrix sigma\n",
    "    sigma = np.cov(x1, x2)\n",
    "    dprint('Covariance matrix Σ:')\n",
    "    print_matrix(sigma, ndigits=5)\n",
    "\n",
    "    # 2. Normalize matrix\n",
    "    rho = sigma / np.trace(sigma)\n",
    "    dprint('Normalized matrix ρ:')\n",
    "    print_matrix(rho, ndigits=5)\n",
    "\n",
    "    # 3. Purify rho\n",
    "    eigenvalues, eigenvectors = np.linalg.eig(rho)\n",
    "    e1 = math.sqrt(eigenvalues[0])\n",
    "    e2 = math.sqrt(eigenvalues[1])\n",
    "    v1 = eigenvectors[0,:]\n",
    "    v2 = eigenvectors[1,:]\n",
    "    psi_0 = np.array([e1 * v1[0], e1 * v1[1], e2 * v2[0], e2 * v2[1]])\n",
    "    dprint(f'Purified state |ψ> = {psi_0}')\n",
    "\n",
    "    # 4. Compute unitary Uprep\n",
    "    v_1 = np.array([0, 1, 0, 0], dtype=np.float64)\n",
    "    v_2 = np.array([0, 0, 1, 0], dtype=np.float64)\n",
    "    v_3 = np.array([0, 0, 0, 1], dtype=np.float64)\n",
    "\n",
    "    ## Gram-Schmidt orthogonalization\n",
    "    basis_vectors = [psi_0, v_1, v_2, v_3]\n",
    "    ortho_basis = []\n",
    "    for v in basis_vectors:\n",
    "        for u in ortho_basis:\n",
    "            v -= np.dot(u, v) * u\n",
    "        v = v / np.linalg.norm(v)\n",
    "        ortho_basis.append(v)\n",
    "\n",
    "    dprint(f'Normalized purified state |ψ> = {ortho_basis[0]}')\n",
    "\n",
    "    ## Form the unitary matrix U\n",
    "    u = np.column_stack(ortho_basis)\n",
    "    return UnitaryGate(u, label='Uprep'), sigma"
   ]
  },
  {
   "cell_type": "markdown",
   "metadata": {},
   "source": [
    "## **State preparation**\n",
    "Prepare two copies of the state $\\ket{\\psi}$ using the predefined $U_{prep}$"
   ]
  },
  {
   "cell_type": "code",
   "execution_count": 67,
   "metadata": {},
   "outputs": [],
   "source": [
    "def state_preparation(circuit: QuantumCircuit, U: UnitaryGate):\n",
    "    \"\"\"\n",
    "    Add the unitary U to the circuit to prepare the state |psi> from a initial pair of qubits in the |00> state\n",
    "\n",
    "    Args:\n",
    "        circuit (QuantumCircuit): the circuit to add the unitary to\n",
    "        U (UnitaryGate): the unitary U to apply\n",
    "    \"\"\"\n",
    "    circuit.append(U, [1, 2])\n",
    "    circuit.append(U, [3, 4])\n",
    "    circuit.barrier()"
   ]
  },
  {
   "cell_type": "markdown",
   "metadata": {},
   "source": [
    "## **Purity calculation**"
   ]
  },
  {
   "cell_type": "code",
   "execution_count": 68,
   "metadata": {},
   "outputs": [],
   "source": [
    "def purity_calculation(circuit: QuantumCircuit):\n",
    "    \"\"\"\n",
    "    Add the circuit to calculate the purity of the state |psi> in the circuit\n",
    "\n",
    "    Args:\n",
    "        circuit (QuantumCircuit): the circuit to add the purity calculation to\n",
    "    \"\"\"\n",
    "    circuit.h(0)\n",
    "    circuit.cswap(0, 1, 3)\n",
    "    circuit.h(0)\n",
    "    circuit.barrier()"
   ]
  },
  {
   "cell_type": "markdown",
   "metadata": {},
   "source": [
    "## **Classical post processing**\n",
    "Classically compute the eigenvalues ​​from the purity value ($P$) calculated in the previous step using the following equations:\n",
    "$$e_1 = Tr(\\Sigma) *\\frac{1 + \\sqrt{1 - 2(1-P)}}{2}, \\quad e_2 = Tr(\\Sigma) *\\frac{1 - \\sqrt{1 - 2(1-P)}}{2}$$"
   ]
  },
  {
   "cell_type": "code",
   "execution_count": 69,
   "metadata": {},
   "outputs": [],
   "source": [
    "def classical_post_processing(P: float, sigma: np.array) -> tuple[float, float]:\n",
    "    \"\"\"\n",
    "    Compute the eigenvalues of the density matrix sigma\n",
    "\n",
    "    Args:\n",
    "        P (float): purity of the density matrix\n",
    "        sigma (np.array): the covariance matrix\n",
    "\n",
    "    Returns:\n",
    "        tuple[float, float]: the eigenvalues of the density matrix\n",
    "    \"\"\"\n",
    "    e1 = np.trace(sigma) * (1 + math.sqrt(1 - 2 * (1 - P))) / 2\n",
    "    e2 = np.trace(sigma) * (1 - math.sqrt(1 - 2 * (1 - P))) / 2\n",
    "    return e1, e2"
   ]
  },
  {
   "cell_type": "markdown",
   "metadata": {},
   "source": [
    "# **Circuit definition**"
   ]
  },
  {
   "cell_type": "code",
   "execution_count": 70,
   "metadata": {},
   "outputs": [
    {
     "name": "stdout",
     "output_type": "stream",
     "text": [
      "Covariance matrix Σ:\n",
      "0.38095, 0.57348\n",
      "0.57348, 1.29693\n",
      "Normalized matrix ρ:\n",
      "0.22704, 0.34178\n",
      "0.34178, 0.77296\n",
      "Purified state |ψ> = [-0.22545283 -0.10847494  0.41977861 -0.8724621 ]\n",
      "Normalized purified state |ψ> = [-0.22545283 -0.10847494  0.41977861 -0.8724621 ]\n"
     ]
    },
    {
     "data": {
      "image/png": "[encoded data removed]",
      "text/plain": [
       "<Figure size 879.297x535.111 with 1 Axes>"
      ]
     },
     "execution_count": 70,
     "metadata": {},
     "output_type": "execute_result"
    }
   ],
   "source": [
    "# Create the circuit\n",
    "ancilla = QuantumRegister(1, name='ancilla')\n",
    "A = QuantumRegister(1, name='A')\n",
    "B = QuantumRegister(1, name='B')\n",
    "A1 = QuantumRegister(1, name='A\\'')\n",
    "B1 = QuantumRegister(1, name='B\\'')\n",
    "measure = ClassicalRegister(1, name='measure')\n",
    "\n",
    "circuit = QuantumCircuit(ancilla, A, B, A1, B1, measure)\n",
    "\n",
    "# Classical precomputation\n",
    "U, sigma = classical_precomputation(x1, x2)\n",
    "\n",
    "# State preparation\n",
    "state_preparation(circuit, U)\n",
    "\n",
    "# Purity calculation\n",
    "purity_calculation(circuit)\n",
    "\n",
    "# Add measurement\n",
    "circuit.measure(ancilla, measure)\n",
    "\n",
    "circuit.draw(output='mpl', style=\"iqp\")"
   ]
  },
  {
   "cell_type": "markdown",
   "metadata": {},
   "source": [
    "# **Circuit execution**"
   ]
  },
  {
   "cell_type": "code",
   "execution_count": 71,
   "metadata": {},
   "outputs": [
    {
     "data": {
      "image/png": "[encoded data removed]",
      "text/plain": [
       "<Figure size 640x480 with 1 Axes>"
      ]
     },
     "metadata": {},
     "output_type": "display_data"
    }
   ],
   "source": [
    "# Execute the circuit using the simulator\n",
    "shots = 40000\n",
    "simulator = BasicAer.get_backend('qasm_simulator')\n",
    "job = execute(circuit, backend=simulator, shots=shots)\n",
    "\n",
    "#Get the result of the execution\n",
    "result = job.result()\n",
    "\n",
    "# Get the counts, the frequency of each answer\n",
    "counts = result.get_counts(circuit)\n",
    "\n",
    "# function to add value labels\n",
    "def addlabels(x,y):\n",
    "    for i in range(len(x)):\n",
    "        plt.text(i, y[i], round(y[i], 3), ha = 'center')\n",
    "\n",
    "# Display the results\n",
    "values = np.array(list(counts.values())) / shots\n",
    "plt.bar(counts.keys(), values)\n",
    "addlabels(counts.keys(), values)\n",
    "plt.show()"
   ]
  },
  {
   "cell_type": "markdown",
   "metadata": {},
   "source": [
    "# **Results**"
   ]
  },
  {
   "cell_type": "code",
   "execution_count": 72,
   "metadata": {},
   "outputs": [
    {
     "name": "stdout",
     "output_type": "stream",
     "text": [
      "Resulting purity: 0.88635\n",
      "Resulting eigenvalues of the density matrix -> e1: 1.5764, e2: 0.10148\n",
      "\n",
      "Expected purity: 0.88264\n",
      "Expected eigenvalues of the density matrix -> e1: 1.57286, e2: 0.10503\n"
     ]
    }
   ],
   "source": [
    "p0 = counts['0']\n",
    "p1 = counts['1']\n",
    "P = (p0 - p1) / shots\n",
    "\n",
    "# Classical post-processing\n",
    "e1, e2 = classical_post_processing(P, sigma)\n",
    "\n",
    "print(f'Resulting purity: {P}')\n",
    "print(f\"Resulting eigenvalues of the density matrix -> e1: {round(e1, 5)}, e2: {round(e2, 5)}\\n\")\n",
    "\n",
    "# Expected result\n",
    "rho = sigma / np.trace(sigma)\n",
    "P = np.trace(np.linalg.matrix_power(rho, 2))\n",
    "e1, e2 = classical_post_processing(P, sigma)\n",
    "print(f'Expected purity: {round(P, 5)}')\n",
    "print(f\"Expected eigenvalues of the density matrix -> e1: {round(e1, 5)}, e2: {round(e2, 5)}\")"
   ]
  }
 ],
 "metadata": {
  "kernelspec": {
   "display_name": "LabQC",
   "language": "python",
   "name": "python3"
  },
  "language_info": {
   "codemirror_mode": {
    "name": "ipython",
    "version": 3
   },
   "file_extension": ".py",
   "mimetype": "text/x-python",
   "name": "python",
   "nbconvert_exporter": "python",
   "pygments_lexer": "ipython3",
   "version": "3.11.5"
  }
 },
 "nbformat": 4,
 "nbformat_minor": 2
}
